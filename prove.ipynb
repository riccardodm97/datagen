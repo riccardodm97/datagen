{
 "cells": [
  {
   "cell_type": "code",
   "execution_count": 1,
   "metadata": {},
   "outputs": [],
   "source": [
    "from IPython.core.interactiveshell import InteractiveShell\n",
    "InteractiveShell.ast_node_interactivity = \"all\"\n",
    "\n",
    "%load_ext autoreload\n",
    "%autoreload 2"
   ]
  },
  {
   "cell_type": "code",
   "execution_count": null,
   "metadata": {},
   "outputs": [],
   "source": [
    "import numpy as np \n",
    "\n",
    "t_matrix = np.eye(4)\n",
    "t_matrix[0, 3] = 2\n",
    "\n",
    "rt = np.random.randint(0,9,(4,4))\n",
    "\n",
    "t_matrix\n",
    "\n",
    "rt[3,:-1] = 0\n",
    "rt[3,-1] = 1\n",
    "\n",
    "rt\n",
    "\n",
    "rt @ t_matrix\n",
    "np.linalg.inv(np.linalg.inv(t_matrix) @ np.linalg.inv(rt))"
   ]
  },
  {
   "cell_type": "code",
   "execution_count": null,
   "metadata": {},
   "outputs": [],
   "source": [
    "cam2world_matrix =  np.random.randint(0,9,(4,4))\n",
    "cam2world_matrix[3,:-1] = 0\n",
    "cam2world_matrix[3,-1] = 1\n",
    "\n",
    "t_vec = np.array([2,0,0])\n",
    "t_matrix = np.eye(4)\n",
    "t_matrix[:3,3] = t_vec\n",
    "\n",
    "\n",
    "\n",
    "c2l = cam2world_matrix @ t_matrix\n",
    "light_location = c2l[:3,3]\n",
    "\n",
    "cam2world_matrix\n",
    "t_matrix\n",
    "c2l\n",
    "light_location"
   ]
  },
  {
   "cell_type": "code",
   "execution_count": null,
   "metadata": {},
   "outputs": [],
   "source": [
    "from pathlib import Path\n",
    "\n",
    "BASE_PATH = Path('~/dev').expanduser()\n",
    "DATASET_PATH = BASE_PATH/'data'/'dataset'\n",
    "SCENE_PATH =  BASE_PATH/'data'/'scenes'\n",
    "CONFIG_FOLDER = BASE_PATH/'data'/'dataset'/'config'\n",
    "\n",
    "\n",
    "BASE_PATH\n",
    "CONFIG_FOLDER"
   ]
  },
  {
   "cell_type": "code",
   "execution_count": null,
   "metadata": {},
   "outputs": [],
   "source": [
    "import json\n",
    "data = {1 : 'ciao'}\n",
    "with open('data.json', 'w') as f:\n",
    "    json.dump(data, f)"
   ]
  },
  {
   "cell_type": "code",
   "execution_count": null,
   "metadata": {},
   "outputs": [],
   "source": [
    "import numpy as np\n",
    "def n_points_on_circle(r, center, num_points):\n",
    "    theta = np.linspace(0,2*np.pi,num_points,endpoint=False); \n",
    "    x = r * np.cos(theta)+center[0]\n",
    "    y = r * np.sin(theta)+center[1]\n",
    "    z = np.broadcast_to(center[2],num_points)\n",
    "\n",
    "    print(x)\n",
    "    print(y)\n",
    "    print(z)\n",
    "\n",
    "    xyz = np.stack((x,y,z),axis=-1)\n",
    "    return xyz\n",
    "\n",
    "\n",
    "n_points_on_circle(0.6,[0,0,0],10)"
   ]
  },
  {
   "cell_type": "code",
   "execution_count": null,
   "metadata": {},
   "outputs": [],
   "source": [
    "import shutil\n",
    "\n",
    "shutil.move('/home/eyecan/Downloads/prova/render/','/home/eyecan/dev/data/blender/light360_2')"
   ]
  },
  {
   "cell_type": "code",
   "execution_count": null,
   "metadata": {},
   "outputs": [],
   "source": [
    "import shutil \n",
    "shutil.rmtree('/home/eyecan/dev/data/blender_tmp/truck_HD')"
   ]
  },
  {
   "cell_type": "code",
   "execution_count": null,
   "metadata": {},
   "outputs": [],
   "source": [
    "import shutil\n",
    "from pathlib import Path \n",
    "p = Path('/home/eyecan/dev/data/blender_tmp/truck_HD_light_360/bbox.npy')\n",
    "shutil.copy(p,'/home/eyecan/dev/data/blender_tmp/prova_copy')"
   ]
  },
  {
   "cell_type": "code",
   "execution_count": null,
   "metadata": {},
   "outputs": [],
   "source": [
    "BASE_PATH = Path('~/dev').expanduser()      #TOCHANGE cosi è specifico per questo pc \n",
    "DATASET_PATH = BASE_PATH/'data'/'dataset'\n",
    "BLENDER_PATH = BASE_PATH/'data'/'blender_tmp'\n",
    "\n",
    "in_blender_tmp_folder = BLENDER_PATH / id\n",
    "out_underfolder_path = DATASET_PATH / 'train' / id\n",
    "render_path = in_blender_tmp_folder / 'render'\n",
    "\n",
    "shutil.move(str(render_path), str(out_underfolder_path))   #DEBUG \n",
    "shutil.rmtree(in_blender_tmp_folder) #DEBUG "
   ]
  },
  {
   "cell_type": "code",
   "execution_count": null,
   "metadata": {},
   "outputs": [],
   "source": [
    "import numpy as np \n",
    "\n",
    "n= 50\n",
    "a = np.arange(0,n)\n",
    "b = a.copy()\n",
    "np.random.shuffle(b)\n",
    "\n",
    "\n"
   ]
  },
  {
   "cell_type": "code",
   "execution_count": null,
   "metadata": {},
   "outputs": [],
   "source": [
    "a = np.random.randint(0,9,(10,4))\n",
    "a\n",
    "np.random.shuffle(a)\n",
    "a"
   ]
  },
  {
   "cell_type": "code",
   "execution_count": null,
   "metadata": {},
   "outputs": [],
   "source": [
    "#FOR GENERATING UNIQUE IDS \n",
    "\n",
    "import itertools\n",
    "import string\n",
    "import os \n",
    "import yaml\n",
    "\n",
    "\n",
    "BASE_PATH = Path('~/dev').expanduser()      #TOCHANGE cosi è specifico per questo pc \n",
    "DATASET_PATH = BASE_PATH/'data'/'dataset'\n",
    "\n",
    "valid_chars = set(string.ascii_lowercase + string.digits)\n",
    "\n",
    "unique_id_generator = itertools.combinations(valid_chars, 5)\n",
    "\n",
    "id_file = os.path.join(DATASET_PATH,'id.yml')\n",
    "\n",
    "with open(id_file,\"r\") as f :\n",
    "    id_dict = yaml.load(f, Loader=yaml.FullLoader)\n",
    "\n",
    "print(id_dict)\n",
    "\n",
    "for gen_id in unique_id_generator:\n",
    "    _id = \"\".join(gen_id)\n",
    "    if _id not in id_dict :\n",
    "        id = _id\n",
    "\n",
    "print(id)\n",
    "\n"
   ]
  },
  {
   "cell_type": "code",
   "execution_count": null,
   "metadata": {},
   "outputs": [],
   "source": [
    "import numpy as np \n",
    "\n",
    "tv_list = [[2,0,0],[0,0,2],[-2,0,0],[0,0,-2]]\n",
    "t_vecs = np.array(tv_list)   #convert the t_vector in numpy array  \n",
    "t_matrices = np.zeros((t_vecs.shape[0],4,4))\n",
    "\n",
    "#generate translation matrices from translation vector list\n",
    "for i, t_vec in enumerate(t_vecs) :\n",
    "    t_matrices[i] = np.eye(4)                                        \n",
    "    t_matrices[i,:3,3] = t_vec\n",
    "\n",
    "t_matrices\n"
   ]
  },
  {
   "cell_type": "code",
   "execution_count": null,
   "metadata": {},
   "outputs": [],
   "source": [
    "import numpy as np \n",
    "c_idxs = np.arange(0,20)\n",
    "l_idxs = c_idxs.copy()\n",
    "c_idxs\n",
    "l_idxs\n",
    "\n",
    "np.random.shuffle(c_idxs)  \n",
    "np.random.shuffle(l_idxs)\n",
    "\n",
    "print([(c_id,l_id) for c_id, l_id in zip(c_idxs,l_idxs)])\n",
    "   "
   ]
  },
  {
   "cell_type": "code",
   "execution_count": 65,
   "metadata": {},
   "outputs": [
    {
     "data": {
      "text/plain": [
       "array([ 0.016 , -0.0226, -0.0472, -0.0347,  0.0814, -0.0984,  0.0358,\n",
       "       -0.0863, -0.0613,  0.0528, -0.0009,  0.0579,  0.016 ])"
      ]
     },
     "execution_count": 65,
     "metadata": {},
     "output_type": "execute_result"
    },
    {
     "data": {
      "text/plain": [
       "array([ 3,  0,  4,  8, 10,  6,  4, 10,  3,  3, 12,  5,  9,  3,  4,  9,  6,\n",
       "        8,  2, 12,  0,  7,  5, 11, 11,  2,  1,  5,  9,  7,  6,  1, 11,  9,\n",
       "       11,  8,  7,  0,  7,  8,  4,  1,  2,  1,  2, 10,  6, 10,  0,  5])"
      ]
     },
     "execution_count": 65,
     "metadata": {},
     "output_type": "execute_result"
    },
    {
     "data": {
      "text/plain": [
       "array([-0.0347,  0.016 ,  0.0814, -0.0613, -0.0009,  0.0358,  0.0814,\n",
       "       -0.0009, -0.0347, -0.0347,  0.016 , -0.0984,  0.0528, -0.0347,\n",
       "        0.0814,  0.0528,  0.0358, -0.0613, -0.0472,  0.016 ,  0.016 ,\n",
       "       -0.0863, -0.0984,  0.0579,  0.0579, -0.0472, -0.0226, -0.0984,\n",
       "        0.0528, -0.0863,  0.0358, -0.0226,  0.0579,  0.0528,  0.0579,\n",
       "       -0.0613, -0.0863,  0.016 , -0.0863, -0.0613,  0.0814, -0.0226,\n",
       "       -0.0472, -0.0226, -0.0472, -0.0009,  0.0358, -0.0009,  0.016 ,\n",
       "       -0.0984])"
      ]
     },
     "execution_count": 65,
     "metadata": {},
     "output_type": "execute_result"
    },
    {
     "data": {
      "text/plain": [
       "12"
      ]
     },
     "execution_count": 65,
     "metadata": {},
     "output_type": "execute_result"
    },
    {
     "data": {
      "text/plain": [
       "13"
      ]
     },
     "execution_count": 65,
     "metadata": {},
     "output_type": "execute_result"
    }
   ],
   "source": [
    "import numpy as np \n",
    "import math \n",
    "\n",
    "smaller_dome_radius = 2.0\n",
    "perc_error_dome = 0.05\n",
    "num_poses = 50\n",
    "num_repeated_lights = 4\n",
    "\n",
    "unique_lights = math.ceil(num_poses / num_repeated_lights)\n",
    "\n",
    "errors = np.round(perc_error_dome * smaller_dome_radius * np.random.uniform(-1.0,1.0,unique_lights),4)\n",
    "\n",
    "c_idxs = np.arange(0,num_poses)\n",
    "l_idxs = np.arange(0,unique_lights)\n",
    "l_idxs = np.repeat(l_idxs,num_repeated_lights)[:num_poses]\n",
    "\n",
    "np.random.shuffle(c_idxs)  \n",
    "np.random.shuffle(l_idxs)\n",
    "\n",
    "errors\n",
    "l_idxs\n",
    "errors[l_idxs]\n",
    "len(np.unique(errors[l_idxs]))\n",
    "unique_lights"
   ]
  },
  {
   "cell_type": "code",
   "execution_count": 44,
   "metadata": {},
   "outputs": [
    {
     "data": {
      "text/plain": [
       "array([ 3,  3,  4,  0,  5,  6, 12,  0,  3,  8,  4,  8,  1,  1,  9,  7,  7,\n",
       "       10,  2,  2,  7,  6, 11,  1,  6, 10, 11,  5,  9,  9,  5,  2,  7,  0,\n",
       "        1, 10,  5, 11,  8,  3,  0, 12,  8,  2,  9,  4, 11, 10,  6,  4])"
      ]
     },
     "execution_count": 44,
     "metadata": {},
     "output_type": "execute_result"
    }
   ],
   "source": [
    "l_idxs"
   ]
  },
  {
   "cell_type": "code",
   "execution_count": 1,
   "metadata": {},
   "outputs": [],
   "source": [
    "import numpy as np \n",
    "a = np.random.randint(0,9,(2,4,4))\n",
    "b = np.random.randint(0,9,(2,4,4))\n",
    "#a\n",
    "#b\n",
    "# a-b \n",
    "# c = (a-b)[:,:3,3]\n",
    "# c\n",
    "# np.linalg.norm(c,axis=1)\n",
    "\n",
    "a_rot = a[:,:3,:3]\n",
    "b_rot = b[:,:3,:3]\n",
    "a_rot_T = np.transpose(a_rot,axes=[0,2,1])\n",
    "\n",
    "diff_matrix = np.matmul(b_rot,a_rot_T)\n",
    "v = (np.trace(diff_matrix,axis1=1,axis2=2)-1)/2\n",
    "v\n",
    "\n",
    "\n",
    "\n",
    "\n",
    "theta = np.arccos(np.clip(v, -1, 1))\n",
    "\n",
    "\n",
    "\n",
    "\n",
    "\n"
   ]
  },
  {
   "cell_type": "code",
   "execution_count": 62,
   "metadata": {},
   "outputs": [
    {
     "data": {
      "text/plain": [
       "array([0.31756043, 1.38980988])"
      ]
     },
     "execution_count": 62,
     "metadata": {},
     "output_type": "execute_result"
    },
    {
     "data": {
      "text/plain": [
       "0.3175604292915215"
      ]
     },
     "execution_count": 62,
     "metadata": {},
     "output_type": "execute_result"
    }
   ],
   "source": [
    "np.arccos([0.95,0.18])\n",
    "\n",
    "np.arccos(0.95)\n"
   ]
  },
  {
   "cell_type": "code",
   "execution_count": 120,
   "metadata": {},
   "outputs": [
    {
     "data": {
      "text/plain": [
       "array([[0.83656227, 0.04084508, 0.37339588, 0.78596507],\n",
       "       [0.37147238, 0.60388013, 0.6750007 , 0.70943548],\n",
       "       [0.5141296 , 0.97373059, 0.41478927, 0.95299612],\n",
       "       [0.3424068 , 0.14984989, 0.28326254, 0.60507789]])"
      ]
     },
     "execution_count": 120,
     "metadata": {},
     "output_type": "execute_result"
    },
    {
     "data": {
      "text/plain": [
       "array([[ 1.   ,  0.   ,  0.   ,  0.   ],\n",
       "       [ 0.   ,  1.   ,  0.   ,  0.   ],\n",
       "       [ 0.   ,  0.   ,  1.   , -0.011],\n",
       "       [ 0.   ,  0.   ,  0.   ,  1.   ]])"
      ]
     },
     "execution_count": 120,
     "metadata": {},
     "output_type": "execute_result"
    }
   ],
   "source": [
    "b = np.random.random((4,4))\n",
    "t_matrix = np.eye(4)   \n",
    "t_vec = np.array([0.0, 0.0, np.round(perc_error_dome * smaller_dome_radius * np.random.uniform(-1.0,1.0),4)])\n",
    "t_matrix[:3,3] = t_vec\n",
    "\n",
    "b\n",
    "t_matrix\n"
   ]
  },
  {
   "cell_type": "code",
   "execution_count": 171,
   "metadata": {},
   "outputs": [
    {
     "data": {
      "text/plain": [
       "array([[0.83656227, 0.04084508, 0.37339588, 0.78185771],\n",
       "       [0.37147238, 0.60388013, 0.6750007 , 0.70201047],\n",
       "       [0.5141296 , 0.97373059, 0.41478927, 0.94843343],\n",
       "       [0.3424068 , 0.14984989, 0.28326254, 0.601962  ]])"
      ]
     },
     "execution_count": 171,
     "metadata": {},
     "output_type": "execute_result"
    }
   ],
   "source": [
    "\n",
    "b @ t_matrix"
   ]
  },
  {
   "cell_type": "code",
   "execution_count": 3,
   "metadata": {},
   "outputs": [],
   "source": [
    "\n",
    "from os import listdir\n",
    "from os.path import isfile\n",
    "from pathlib import Path\n",
    "\n",
    "def load_images(path: str) -> list:\n",
    "    \n",
    "    img_files = [f for f in listdir(path) if f.endswith(\".JPG\")]\n",
    "    for idx,file in enumerate(img_files):\n",
    "        file = path / file\n",
    "        file.rename(file.parent / (str(idx).zfill(5) + '_image' + file.suffix.lower()))        \n",
    "\n",
    "\n",
    "path = Path('/home/eyecan/dev/real_relight/data/datasets/train/cubesOnShelf_multiLight/from_uf/camera/lset1/data')\n",
    "\n",
    "a = load_images(path)\n",
    "\n",
    "a\n"
   ]
  },
  {
   "cell_type": "code",
   "execution_count": 2,
   "metadata": {},
   "outputs": [
    {
     "name": "stdout",
     "output_type": "stream",
     "text": [
      "Resized Dimensions :  (464, 696, 3)\n"
     ]
    }
   ],
   "source": [
    "import cv2\n",
    "import os\n",
    "from pathlib import Path \n",
    "\n",
    "images_path = Path('/home/eyecan/dev/real_relight/data/datasets/train/cubesOnShelf_fixedLight/uf/data')\n",
    "\n",
    "width = 696\n",
    "height = 464\n",
    "dim = (width, height)\n",
    "\n",
    "def load_images(path: str) -> list:\n",
    "\n",
    "    files = [f for f in listdir(path) if f.endswith(\".jpeg\")]\n",
    "    files = sorted(files)\n",
    "\n",
    "    return files\n",
    "\n",
    "\n",
    "images = load_images(images_path)\n",
    "\n",
    "for img_name in images : \n",
    "\n",
    "    img_path = str(images_path / img_name)\n",
    "\n",
    "    img = cv2.imread(img_path, cv2.IMREAD_UNCHANGED)\n",
    "    resized = cv2.resize(img, dim, interpolation = cv2.INTER_AREA)\n",
    "\n",
    "    os.remove(img_path)\n",
    "\n",
    "    cv2.imwrite(img_path, resized)\n",
    " \n",
    "print('Resized Dimensions : ',resized.shape)\n",
    " "
   ]
  },
  {
   "cell_type": "code",
   "execution_count": 15,
   "metadata": {},
   "outputs": [
    {
     "data": {
      "text/plain": [
       "1078.901664373706"
      ]
     },
     "execution_count": 15,
     "metadata": {},
     "output_type": "execute_result"
    },
    {
     "data": {
      "text/plain": [
       "312.85477196977433"
      ]
     },
     "execution_count": 15,
     "metadata": {},
     "output_type": "execute_result"
    },
    {
     "data": {
      "text/plain": [
       "1091.5739265615089"
      ]
     },
     "execution_count": 15,
     "metadata": {},
     "output_type": "execute_result"
    },
    {
     "data": {
      "text/plain": [
       "237.27369524553404"
      ]
     },
     "execution_count": 15,
     "metadata": {},
     "output_type": "execute_result"
    }
   ],
   "source": [
    "4315.606657494824 / 4\n",
    "1251.4190878790973 / 4\n",
    "4366.2957062460355 / 4\n",
    "949.0947809821362 / 4"
   ]
  },
  {
   "cell_type": "code",
   "execution_count": 8,
   "metadata": {},
   "outputs": [],
   "source": [
    "import yaml \n",
    "import numpy as np \n",
    "\n",
    "\n",
    "camera_metadata = {\n",
    "        \"camera_pose\": {\n",
    "            \"rotation\": np.eye(3).tolist(),\n",
    "            \"translation\": np.zeros(3).tolist(),\n",
    "        },\n",
    "        \"intrinsics\": {\n",
    "            \"camera_matrix\": [1,2,3],\n",
    "            \"dist_coeffs\": [4,5,6],\n",
    "            \"image_size\": [30,50],\n",
    "        },\n",
    "    }\n",
    "\n",
    "\n",
    "path = Path('/home/eyecan/dev/real_relight/data/datasets/train/prove/prova0/calibration')\n",
    "\n",
    "with open(path / 'camera.yml', \"w\") as f : \n",
    "    yaml.dump(camera_metadata, f)\n",
    "\n"
   ]
  },
  {
   "cell_type": "code",
   "execution_count": 11,
   "metadata": {},
   "outputs": [
    {
     "ename": "ImportError",
     "evalue": "cannot import name 'aruco' from 'cv2' (/home/eyecan/dev/venv/ngp/lib/python3.8/site-packages/cv2/__init__.py)",
     "output_type": "error",
     "traceback": [
      "\u001b[0;31m---------------------------------------------------------------------------\u001b[0m",
      "\u001b[0;31mImportError\u001b[0m                               Traceback (most recent call last)",
      "\u001b[1;32m/home/eyecan/dev/code/datagen/utils/prove.ipynb Cell 24\u001b[0m in \u001b[0;36m<cell line: 2>\u001b[0;34m()\u001b[0m\n\u001b[1;32m      <a href='vscode-notebook-cell:/home/eyecan/dev/code/datagen/utils/prove.ipynb#X32sZmlsZQ%3D%3D?line=0'>1</a>\u001b[0m \u001b[39mimport\u001b[39;00m \u001b[39mcv2\u001b[39;00m \n\u001b[0;32m----> <a href='vscode-notebook-cell:/home/eyecan/dev/code/datagen/utils/prove.ipynb#X32sZmlsZQ%3D%3D?line=1'>2</a>\u001b[0m \u001b[39mfrom\u001b[39;00m \u001b[39mcv2\u001b[39;00m \u001b[39mimport\u001b[39;00m aruco \n\u001b[1;32m      <a href='vscode-notebook-cell:/home/eyecan/dev/code/datagen/utils/prove.ipynb#X32sZmlsZQ%3D%3D?line=3'>4</a>\u001b[0m n_markers \u001b[39m=\u001b[39m \u001b[39m18\u001b[39m\n\u001b[1;32m      <a href='vscode-notebook-cell:/home/eyecan/dev/code/datagen/utils/prove.ipynb#X32sZmlsZQ%3D%3D?line=4'>5</a>\u001b[0m marker_res \u001b[39m=\u001b[39m \u001b[39m5\u001b[39m\n",
      "\u001b[0;31mImportError\u001b[0m: cannot import name 'aruco' from 'cv2' (/home/eyecan/dev/venv/ngp/lib/python3.8/site-packages/cv2/__init__.py)"
     ]
    }
   ],
   "source": [
    "import cv2 \n",
    "from cv2 import aruco \n",
    "\n",
    "n_markers = 18\n",
    "marker_res = 5\n",
    "grid_size = [6,6]\n",
    "square_size_meters = 0.03\n",
    "marker_size_meters = 0.018\n",
    "\n",
    "dictionary = aruco.Dictionary_create(n_markers, marker_res)\n",
    "board = aruco.CharucoBoard_create(grid_size[1], grid_size[0], square_size_meters, marker_size_meters, dictionary)\n",
    "\n",
    "input_image = cv2.cvtColor(board.draw((500, 500)), cv2.COLOR_GRAY2BGR)\n",
    "cv2.imwrite(\"/home/eyecan/dev/real_relight/data/datasets/train/prove/prova0/calibration/base\", cv2.cvtColor(input_image, cv2.COLOR_BGR2RGB))"
   ]
  },
  {
   "cell_type": "code",
   "execution_count": 1,
   "metadata": {},
   "outputs": [
    {
     "data": {
      "text/plain": [
       "'/home/eyecan/dev/real_relight/data/datasets/train/cubesOnShelf_multiLight/prova/ciao.txt'"
      ]
     },
     "execution_count": 1,
     "metadata": {},
     "output_type": "execute_result"
    }
   ],
   "source": [
    "import shutil\n",
    "\n",
    "shutil.copy('/home/eyecan/dev/real_relight/data/datasets/train/cubesOnShelf_multiLight/config/prova.txt', '/home/eyecan/dev/real_relight/data/datasets/train/cubesOnShelf_multiLight/prova/ciao.txt')     "
   ]
  }
 ],
 "metadata": {
  "kernelspec": {
   "display_name": "Python 3.8.13 ('datagen')",
   "language": "python",
   "name": "python3"
  },
  "language_info": {
   "codemirror_mode": {
    "name": "ipython",
    "version": 3
   },
   "file_extension": ".py",
   "mimetype": "text/x-python",
   "name": "python",
   "nbconvert_exporter": "python",
   "pygments_lexer": "ipython3",
   "version": "3.8.13 (default, Mar 28 2022, 11:38:47) \n[GCC 7.5.0]"
  },
  "orig_nbformat": 4,
  "vscode": {
   "interpreter": {
    "hash": "92bd52329d930686a430bbb9fce3a98bf187dc23e64217a2211397910e56a468"
   }
  }
 },
 "nbformat": 4,
 "nbformat_minor": 2
}
