{
 "cells": [
  {
   "cell_type": "code",
   "execution_count": 14,
   "metadata": {},
   "outputs": [
    {
     "name": "stdout",
     "output_type": "stream",
     "text": [
      "The autoreload extension is already loaded. To reload it, use:\n",
      "  %reload_ext autoreload\n"
     ]
    }
   ],
   "source": [
    "from IPython.core.interactiveshell import InteractiveShell\n",
    "InteractiveShell.ast_node_interactivity = \"all\"\n",
    "\n",
    "%load_ext autoreload\n",
    "%autoreload 2"
   ]
  },
  {
   "cell_type": "code",
   "execution_count": 15,
   "metadata": {},
   "outputs": [
    {
     "data": {
      "text/plain": [
       "array([[1., 0., 0., 2.],\n",
       "       [0., 1., 0., 0.],\n",
       "       [0., 0., 1., 0.],\n",
       "       [0., 0., 0., 1.]])"
      ]
     },
     "execution_count": 15,
     "metadata": {},
     "output_type": "execute_result"
    },
    {
     "data": {
      "text/plain": [
       "array([[7, 4, 8, 0],\n",
       "       [6, 8, 0, 5],\n",
       "       [4, 8, 1, 4],\n",
       "       [0, 0, 0, 1]])"
      ]
     },
     "execution_count": 15,
     "metadata": {},
     "output_type": "execute_result"
    },
    {
     "data": {
      "text/plain": [
       "array([[ 7.,  4.,  8., 14.],\n",
       "       [ 6.,  8.,  0., 17.],\n",
       "       [ 4.,  8.,  1., 12.],\n",
       "       [ 0.,  0.,  0.,  1.]])"
      ]
     },
     "execution_count": 15,
     "metadata": {},
     "output_type": "execute_result"
    },
    {
     "data": {
      "text/plain": [
       "array([[ 7.00000000e+00,  4.00000000e+00,  8.00000000e+00,\n",
       "         1.40000000e+01],\n",
       "       [ 6.00000000e+00,  8.00000000e+00, -1.11022302e-16,\n",
       "         1.70000000e+01],\n",
       "       [ 4.00000000e+00,  8.00000000e+00,  1.00000000e+00,\n",
       "         1.20000000e+01],\n",
       "       [ 0.00000000e+00,  0.00000000e+00,  0.00000000e+00,\n",
       "         1.00000000e+00]])"
      ]
     },
     "execution_count": 15,
     "metadata": {},
     "output_type": "execute_result"
    }
   ],
   "source": [
    "import numpy as np \n",
    "\n",
    "t_matrix = np.eye(4)\n",
    "t_matrix[0, 3] = 2\n",
    "\n",
    "rt = np.random.randint(0,9,(4,4))\n",
    "\n",
    "t_matrix\n",
    "\n",
    "rt[3,:-1] = 0\n",
    "rt[3,-1] = 1\n",
    "\n",
    "rt\n",
    "\n",
    "rt @ t_matrix\n",
    "np.linalg.inv(np.linalg.inv(t_matrix) @ np.linalg.inv(rt))"
   ]
  },
  {
   "cell_type": "code",
   "execution_count": 16,
   "metadata": {},
   "outputs": [
    {
     "data": {
      "text/plain": [
       "array([[1, 6, 6, 0],\n",
       "       [2, 0, 8, 8],\n",
       "       [6, 5, 6, 1],\n",
       "       [0, 0, 0, 1]])"
      ]
     },
     "execution_count": 16,
     "metadata": {},
     "output_type": "execute_result"
    },
    {
     "data": {
      "text/plain": [
       "array([[1., 0., 0., 2.],\n",
       "       [0., 1., 0., 0.],\n",
       "       [0., 0., 1., 0.],\n",
       "       [0., 0., 0., 1.]])"
      ]
     },
     "execution_count": 16,
     "metadata": {},
     "output_type": "execute_result"
    },
    {
     "data": {
      "text/plain": [
       "array([[ 1.,  6.,  6.,  2.],\n",
       "       [ 2.,  0.,  8., 12.],\n",
       "       [ 6.,  5.,  6., 13.],\n",
       "       [ 0.,  0.,  0.,  1.]])"
      ]
     },
     "execution_count": 16,
     "metadata": {},
     "output_type": "execute_result"
    },
    {
     "data": {
      "text/plain": [
       "array([ 2., 12., 13.])"
      ]
     },
     "execution_count": 16,
     "metadata": {},
     "output_type": "execute_result"
    }
   ],
   "source": [
    "cam2world_matrix =  np.random.randint(0,9,(4,4))\n",
    "cam2world_matrix[3,:-1] = 0\n",
    "cam2world_matrix[3,-1] = 1\n",
    "\n",
    "t_vec = np.array([2,0,0])\n",
    "t_matrix = np.eye(4)\n",
    "t_matrix[:3,3] = t_vec\n",
    "\n",
    "\n",
    "\n",
    "c2l = cam2world_matrix @ t_matrix\n",
    "light_location = c2l[:3,3]\n",
    "\n",
    "cam2world_matrix\n",
    "t_matrix\n",
    "c2l\n",
    "light_location"
   ]
  },
  {
   "cell_type": "code",
   "execution_count": 17,
   "metadata": {},
   "outputs": [
    {
     "data": {
      "text/plain": [
       "PosixPath('/home/eyecan/dev')"
      ]
     },
     "execution_count": 17,
     "metadata": {},
     "output_type": "execute_result"
    },
    {
     "data": {
      "text/plain": [
       "PosixPath('/home/eyecan/dev/data/dataset/config')"
      ]
     },
     "execution_count": 17,
     "metadata": {},
     "output_type": "execute_result"
    }
   ],
   "source": [
    "from pathlib import Path\n",
    "\n",
    "BASE_PATH = Path('~/dev').expanduser()\n",
    "DATASET_PATH = BASE_PATH/'data'/'dataset'\n",
    "SCENE_PATH =  BASE_PATH/'data'/'scenes'\n",
    "CONFIG_FOLDER = BASE_PATH/'data'/'dataset'/'config'\n",
    "\n",
    "\n",
    "BASE_PATH\n",
    "CONFIG_FOLDER"
   ]
  },
  {
   "cell_type": "code",
   "execution_count": 18,
   "metadata": {},
   "outputs": [],
   "source": [
    "import json\n",
    "data = {1 : 'ciao'}\n",
    "with open('data.json', 'w') as f:\n",
    "    json.dump(data, f)"
   ]
  },
  {
   "cell_type": "code",
   "execution_count": 19,
   "metadata": {},
   "outputs": [
    {
     "name": "stdout",
     "output_type": "stream",
     "text": [
      "[ 0.6        0.4854102  0.1854102 -0.1854102 -0.4854102 -0.6\n",
      " -0.4854102 -0.1854102  0.1854102  0.4854102]\n",
      "[ 0.00000000e+00  3.52671151e-01  5.70633910e-01  5.70633910e-01\n",
      "  3.52671151e-01  7.34788079e-17 -3.52671151e-01 -5.70633910e-01\n",
      " -5.70633910e-01 -3.52671151e-01]\n",
      "[0 0 0 0 0 0 0 0 0 0]\n"
     ]
    },
    {
     "data": {
      "text/plain": [
       "array([[ 6.00000000e-01,  0.00000000e+00,  0.00000000e+00],\n",
       "       [ 4.85410197e-01,  3.52671151e-01,  0.00000000e+00],\n",
       "       [ 1.85410197e-01,  5.70633910e-01,  0.00000000e+00],\n",
       "       [-1.85410197e-01,  5.70633910e-01,  0.00000000e+00],\n",
       "       [-4.85410197e-01,  3.52671151e-01,  0.00000000e+00],\n",
       "       [-6.00000000e-01,  7.34788079e-17,  0.00000000e+00],\n",
       "       [-4.85410197e-01, -3.52671151e-01,  0.00000000e+00],\n",
       "       [-1.85410197e-01, -5.70633910e-01,  0.00000000e+00],\n",
       "       [ 1.85410197e-01, -5.70633910e-01,  0.00000000e+00],\n",
       "       [ 4.85410197e-01, -3.52671151e-01,  0.00000000e+00]])"
      ]
     },
     "execution_count": 19,
     "metadata": {},
     "output_type": "execute_result"
    }
   ],
   "source": [
    "import numpy as np\n",
    "def n_points_on_circle(r, center, num_points):\n",
    "    theta = np.linspace(0,2*np.pi,num_points,endpoint=False); \n",
    "    x = r * np.cos(theta)+center[0]\n",
    "    y = r * np.sin(theta)+center[1]\n",
    "    z = np.broadcast_to(center[2],num_points)\n",
    "\n",
    "    print(x)\n",
    "    print(y)\n",
    "    print(z)\n",
    "\n",
    "    xyz = np.stack((x,y,z),axis=-1)\n",
    "    return xyz\n",
    "\n",
    "\n",
    "n_points_on_circle(0.6,[0,0,0],10)"
   ]
  },
  {
   "cell_type": "code",
   "execution_count": 20,
   "metadata": {},
   "outputs": [
    {
     "ename": "FileNotFoundError",
     "evalue": "[Errno 2] No such file or directory: '/home/eyecan/Downloads/prova/render/'",
     "output_type": "error",
     "traceback": [
      "\u001b[0;31m---------------------------------------------------------------------------\u001b[0m",
      "\u001b[0;31mFileNotFoundError\u001b[0m                         Traceback (most recent call last)",
      "File \u001b[0;32m~/dev/miniconda3/envs/datagen/lib/python3.8/shutil.py:791\u001b[0m, in \u001b[0;36mmove\u001b[0;34m(src, dst, copy_function)\u001b[0m\n\u001b[1;32m    790\u001b[0m \u001b[39mtry\u001b[39;00m:\n\u001b[0;32m--> 791\u001b[0m     os\u001b[39m.\u001b[39;49mrename(src, real_dst)\n\u001b[1;32m    792\u001b[0m \u001b[39mexcept\u001b[39;00m \u001b[39mOSError\u001b[39;00m:\n",
      "\u001b[0;31mFileNotFoundError\u001b[0m: [Errno 2] No such file or directory: '/home/eyecan/Downloads/prova/render/' -> '/home/eyecan/dev/data/blender/light360_2'",
      "\nDuring handling of the above exception, another exception occurred:\n",
      "\u001b[0;31mFileNotFoundError\u001b[0m                         Traceback (most recent call last)",
      "Cell \u001b[0;32mIn [20], line 3\u001b[0m\n\u001b[1;32m      1\u001b[0m \u001b[39mimport\u001b[39;00m \u001b[39mshutil\u001b[39;00m\n\u001b[0;32m----> 3\u001b[0m shutil\u001b[39m.\u001b[39mmove(\u001b[39m'\u001b[39m\u001b[39m/home/eyecan/Downloads/prova/render/\u001b[39m\u001b[39m'\u001b[39m,\u001b[39m'\u001b[39m\u001b[39m/home/eyecan/dev/data/blender/light360_2\u001b[39m\u001b[39m'\u001b[39m)\n",
      "File \u001b[0;32m~/dev/miniconda3/envs/datagen/lib/python3.8/shutil.py:811\u001b[0m, in \u001b[0;36mmove\u001b[0;34m(src, dst, copy_function)\u001b[0m\n\u001b[1;32m    809\u001b[0m         rmtree(src)\n\u001b[1;32m    810\u001b[0m     \u001b[39melse\u001b[39;00m:\n\u001b[0;32m--> 811\u001b[0m         copy_function(src, real_dst)\n\u001b[1;32m    812\u001b[0m         os\u001b[39m.\u001b[39munlink(src)\n\u001b[1;32m    813\u001b[0m \u001b[39mreturn\u001b[39;00m real_dst\n",
      "File \u001b[0;32m~/dev/miniconda3/envs/datagen/lib/python3.8/shutil.py:435\u001b[0m, in \u001b[0;36mcopy2\u001b[0;34m(src, dst, follow_symlinks)\u001b[0m\n\u001b[1;32m    433\u001b[0m \u001b[39mif\u001b[39;00m os\u001b[39m.\u001b[39mpath\u001b[39m.\u001b[39misdir(dst):\n\u001b[1;32m    434\u001b[0m     dst \u001b[39m=\u001b[39m os\u001b[39m.\u001b[39mpath\u001b[39m.\u001b[39mjoin(dst, os\u001b[39m.\u001b[39mpath\u001b[39m.\u001b[39mbasename(src))\n\u001b[0;32m--> 435\u001b[0m copyfile(src, dst, follow_symlinks\u001b[39m=\u001b[39;49mfollow_symlinks)\n\u001b[1;32m    436\u001b[0m copystat(src, dst, follow_symlinks\u001b[39m=\u001b[39mfollow_symlinks)\n\u001b[1;32m    437\u001b[0m \u001b[39mreturn\u001b[39;00m dst\n",
      "File \u001b[0;32m~/dev/miniconda3/envs/datagen/lib/python3.8/shutil.py:264\u001b[0m, in \u001b[0;36mcopyfile\u001b[0;34m(src, dst, follow_symlinks)\u001b[0m\n\u001b[1;32m    262\u001b[0m     os\u001b[39m.\u001b[39msymlink(os\u001b[39m.\u001b[39mreadlink(src), dst)\n\u001b[1;32m    263\u001b[0m \u001b[39melse\u001b[39;00m:\n\u001b[0;32m--> 264\u001b[0m     \u001b[39mwith\u001b[39;00m \u001b[39mopen\u001b[39;49m(src, \u001b[39m'\u001b[39;49m\u001b[39mrb\u001b[39;49m\u001b[39m'\u001b[39;49m) \u001b[39mas\u001b[39;00m fsrc, \u001b[39mopen\u001b[39m(dst, \u001b[39m'\u001b[39m\u001b[39mwb\u001b[39m\u001b[39m'\u001b[39m) \u001b[39mas\u001b[39;00m fdst:\n\u001b[1;32m    265\u001b[0m         \u001b[39m# macOS\u001b[39;00m\n\u001b[1;32m    266\u001b[0m         \u001b[39mif\u001b[39;00m _HAS_FCOPYFILE:\n\u001b[1;32m    267\u001b[0m             \u001b[39mtry\u001b[39;00m:\n",
      "\u001b[0;31mFileNotFoundError\u001b[0m: [Errno 2] No such file or directory: '/home/eyecan/Downloads/prova/render/'"
     ]
    }
   ],
   "source": [
    "import shutil\n",
    "\n",
    "shutil.move('/home/eyecan/Downloads/prova/render/','/home/eyecan/dev/data/blender/light360_2')"
   ]
  },
  {
   "cell_type": "code",
   "execution_count": null,
   "metadata": {},
   "outputs": [],
   "source": [
    "import shutil \n",
    "shutil.rmtree('/home/eyecan/dev/data/blender_tmp/truck_HD')"
   ]
  },
  {
   "cell_type": "code",
   "execution_count": null,
   "metadata": {},
   "outputs": [],
   "source": [
    "import shutil\n",
    "from pathlib import Path \n",
    "p = Path('/home/eyecan/dev/data/blender_tmp/truck_HD_light_360/bbox.npy')\n",
    "shutil.copy(p,'/home/eyecan/dev/data/blender_tmp/prova_copy')"
   ]
  },
  {
   "cell_type": "code",
   "execution_count": null,
   "metadata": {},
   "outputs": [],
   "source": [
    "BASE_PATH = Path('~/dev').expanduser()      #TOCHANGE cosi è specifico per questo pc \n",
    "DATASET_PATH = BASE_PATH/'data'/'dataset'\n",
    "BLENDER_PATH = BASE_PATH/'data'/'blender_tmp'\n",
    "\n",
    "in_blender_tmp_folder = BLENDER_PATH / id\n",
    "out_underfolder_path = DATASET_PATH / 'train' / id\n",
    "render_path = in_blender_tmp_folder / 'render'\n",
    "\n",
    "shutil.move(str(render_path), str(out_underfolder_path))   #DEBUG \n",
    "shutil.rmtree(in_blender_tmp_folder) #DEBUG "
   ]
  },
  {
   "cell_type": "code",
   "execution_count": null,
   "metadata": {},
   "outputs": [],
   "source": [
    "import numpy as np \n",
    "\n",
    "n= 50\n",
    "a = np.arange(0,n)\n",
    "b = a.copy()\n",
    "np.random.shuffle(b)\n",
    "\n",
    "\n"
   ]
  },
  {
   "cell_type": "code",
   "execution_count": null,
   "metadata": {},
   "outputs": [],
   "source": [
    "a = np.random.randint(0,9,(10,4))\n",
    "a\n",
    "np.random.shuffle(a)\n",
    "a"
   ]
  },
  {
   "cell_type": "code",
   "execution_count": null,
   "metadata": {},
   "outputs": [],
   "source": [
    "#FOR GENERATING UNIQUE IDS \n",
    "\n",
    "import itertools\n",
    "import string\n",
    "import os \n",
    "import yaml\n",
    "\n",
    "\n",
    "BASE_PATH = Path('~/dev').expanduser()      #TOCHANGE cosi è specifico per questo pc \n",
    "DATASET_PATH = BASE_PATH/'data'/'dataset'\n",
    "\n",
    "valid_chars = set(string.ascii_lowercase + string.digits)\n",
    "\n",
    "unique_id_generator = itertools.combinations(valid_chars, 5)\n",
    "\n",
    "id_file = os.path.join(DATASET_PATH,'id.yml')\n",
    "\n",
    "with open(id_file,\"r\") as f :\n",
    "    id_dict = yaml.load(f, Loader=yaml.FullLoader)\n",
    "\n",
    "print(id_dict)\n",
    "\n",
    "for gen_id in unique_id_generator:\n",
    "    _id = \"\".join(gen_id)\n",
    "    if _id not in id_dict :\n",
    "        id = _id\n",
    "\n",
    "print(id)\n",
    "\n"
   ]
  },
  {
   "cell_type": "code",
   "execution_count": null,
   "metadata": {},
   "outputs": [],
   "source": [
    "import numpy as np \n",
    "\n",
    "tv_list = [[2,0,0],[0,0,2],[-2,0,0],[0,0,-2]]\n",
    "t_vecs = np.array(tv_list)   #convert the t_vector in numpy array  \n",
    "t_matrices = np.zeros((t_vecs.shape[0],4,4))\n",
    "\n",
    "#generate translation matrices from translation vector list\n",
    "for i, t_vec in enumerate(t_vecs) :\n",
    "    t_matrices[i] = np.eye(4)                                        \n",
    "    t_matrices[i,:3,3] = t_vec\n",
    "\n",
    "t_matrices\n"
   ]
  },
  {
   "cell_type": "code",
   "execution_count": null,
   "metadata": {},
   "outputs": [],
   "source": [
    "import numpy as np \n",
    "c_idxs = np.arange(0,20)\n",
    "l_idxs = c_idxs.copy()\n",
    "c_idxs\n",
    "l_idxs\n",
    "\n",
    "np.random.shuffle(c_idxs)  \n",
    "np.random.shuffle(l_idxs)\n",
    "\n",
    "print([(c_id,l_id) for c_id, l_id in zip(c_idxs,l_idxs)])\n",
    "   "
   ]
  },
  {
   "cell_type": "code",
   "execution_count": null,
   "metadata": {},
   "outputs": [],
   "source": [
    "import numpy as np \n",
    "r = 2.0\n",
    "\n",
    "c = np.round(0.2 * r * np.random.uniform(-1.0,1.0),4)\n",
    "\n",
    "c\n",
    "\n"
   ]
  },
  {
   "cell_type": "code",
   "execution_count": null,
   "metadata": {},
   "outputs": [],
   "source": [
    "import numpy as np \n",
    "a = np.random.randint(0,9,(2,4,4))\n",
    "b = np.random.randint(0,9,(2,4,4))\n",
    "#a\n",
    "#b\n",
    "# a-b \n",
    "# c = (a-b)[:,:3,3]\n",
    "# c\n",
    "# np.linalg.norm(c,axis=1)\n",
    "\n",
    "a_rot = a[:,:3,:3]\n",
    "b_rot = b[:,:3,:3]\n",
    "a_rot_T = np.transpose(a_rot,axes=[0,2,1])\n",
    "\n",
    "diff_matrix = np.matmul(b_rot,a_rot_T)\n",
    "v = (np.trace(diff_matrix,axis1=1,axis2=2)-1)/2\n",
    "v\n",
    "\n",
    "\n",
    "\n",
    "\n",
    "theta = np.arccos(np.clip(v, -1, 1))\n",
    "\n",
    "\n",
    "\n",
    "\n",
    "\n"
   ]
  },
  {
   "cell_type": "code",
   "execution_count": null,
   "metadata": {},
   "outputs": [],
   "source": [
    "np.arccos([0.95,0.18])\n",
    "\n",
    "np.arccos(0.95)\n"
   ]
  },
  {
   "cell_type": "code",
   "execution_count": null,
   "metadata": {},
   "outputs": [
    {
     "data": {
      "text/plain": [
       "array([0, 1, 2])"
      ]
     },
     "execution_count": 8,
     "metadata": {},
     "output_type": "execute_result"
    },
    {
     "data": {
      "text/plain": [
       "array([0, 1, 2, 3, 4, 5, 6, 7])"
      ]
     },
     "execution_count": 8,
     "metadata": {},
     "output_type": "execute_result"
    },
    {
     "data": {
      "text/plain": [
       "array([0, 0, 0, 1, 1, 1, 2, 2])"
      ]
     },
     "execution_count": 8,
     "metadata": {},
     "output_type": "execute_result"
    },
    {
     "data": {
      "text/plain": [
       "array([7, 3, 4, 2, 0, 5, 6, 1])"
      ]
     },
     "execution_count": 8,
     "metadata": {},
     "output_type": "execute_result"
    },
    {
     "data": {
      "text/plain": [
       "array([1, 0, 0, 1, 2, 1, 2, 0])"
      ]
     },
     "execution_count": 8,
     "metadata": {},
     "output_type": "execute_result"
    }
   ],
   "source": [
    "import numpy as np \n",
    "import math \n",
    "\n",
    "num_poses = 8\n",
    "num_repeated_lights = 3\n",
    "\n",
    "c_idxs = np.arange(0,num_poses)\n",
    "l_idxs = np.arange(0,math.ceil(num_poses / num_repeated_lights))\n",
    "l_idxs\n",
    "l_idxs = np.repeat(l_idxs,num_repeated_lights)[:num_poses]\n",
    "\n",
    "c_idxs \n",
    "l_idxs\n",
    "\n",
    "np.random.shuffle(c_idxs)\n",
    "np.random.shuffle(l_idxs)\n",
    "\n",
    "c_idxs \n",
    "l_idxs"
   ]
  },
  {
   "cell_type": "code",
   "execution_count": null,
   "metadata": {},
   "outputs": [
    {
     "data": {
      "text/plain": [
       "array([0, 1, 2, 3, 4, 5, 6, 7, 8, 9])"
      ]
     },
     "execution_count": 15,
     "metadata": {},
     "output_type": "execute_result"
    },
    {
     "data": {
      "text/plain": [
       "array([0, 1, 2, 3, 0, 1, 2, 3, 0, 1])"
      ]
     },
     "execution_count": 15,
     "metadata": {},
     "output_type": "execute_result"
    },
    {
     "data": {
      "text/plain": [
       "array([8, 9, 2, 4, 5, 3, 1, 7, 0, 6])"
      ]
     },
     "execution_count": 15,
     "metadata": {},
     "output_type": "execute_result"
    },
    {
     "data": {
      "text/plain": [
       "array([0, 0, 1, 3, 2, 0, 1, 2, 1, 3])"
      ]
     },
     "execution_count": 15,
     "metadata": {},
     "output_type": "execute_result"
    }
   ],
   "source": [
    "import numpy as np \n",
    "import math \n",
    "\n",
    "num_poses = 10\n",
    "num_lights = 4\n",
    "\n",
    "c_idxs = np.arange(0,num_poses)\n",
    "l_idxs = np.arange(0,num_lights)\n",
    "l_idxs = np.tile(l_idxs,reps=3)[:num_poses] #np.repeat(l_idxs,num_repeated_lights)[:num_poses]\n",
    "#l_idxs_b = np.repeat(l_idxs,num_repeated_lights)[:num_poses]\n",
    "\n",
    "\n",
    "c_idxs \n",
    "l_idxs\n",
    "#l_idxs_b\n",
    "\n",
    "np.random.shuffle(c_idxs)\n",
    "np.random.shuffle(l_idxs)\n",
    "\n",
    "c_idxs \n",
    "l_idxs"
   ]
  },
  {
   "cell_type": "code",
   "execution_count": null,
   "metadata": {},
   "outputs": [],
   "source": [
    "a = np.random.randint(0,9,(4,4))\n",
    "b = np.random.randint(0,9,(4,4))\n",
    "\n",
    "\n",
    "a\n",
    "\n",
    "b\n",
    "\n",
    "np.unique([a,b,a],axis=0)"
   ]
  },
  {
   "cell_type": "code",
   "execution_count": null,
   "metadata": {},
   "outputs": [
    {
     "data": {
      "text/plain": [
       "array([1, 2, 3])"
      ]
     },
     "execution_count": 8,
     "metadata": {},
     "output_type": "execute_result"
    }
   ],
   "source": [
    "\n",
    "l_idxs = np.repeat([1,2,3],1)[:6]\n",
    "\n",
    "l_idxs\n"
   ]
  },
  {
   "cell_type": "code",
   "execution_count": null,
   "metadata": {},
   "outputs": [
    {
     "data": {
      "text/plain": [
       "0.38"
      ]
     },
     "execution_count": 9,
     "metadata": {},
     "output_type": "execute_result"
    }
   ],
   "source": [
    "input_start = 0.0\n",
    "input_end = 1.0\n",
    "output_start = 0.3\n",
    "output_end = 0.7\n",
    "\n",
    "\n",
    "input = 0.2\n",
    "\n",
    "\n",
    "output = output_start + (output_end - output_start) * input \n",
    "\n",
    "output "
   ]
  },
  {
   "cell_type": "code",
   "execution_count": null,
   "metadata": {},
   "outputs": [
    {
     "data": {
      "text/plain": [
       "array([[[5, 3, 0, 3],\n",
       "        [0, 6, 0, 1],\n",
       "        [6, 3, 0, 0],\n",
       "        [8, 1, 0, 5]],\n",
       "\n",
       "       [[0, 0, 0, 2],\n",
       "        [3, 5, 0, 2],\n",
       "        [7, 5, 1, 6],\n",
       "        [4, 7, 1, 5]],\n",
       "\n",
       "       [[5, 1, 2, 3],\n",
       "        [8, 0, 6, 4],\n",
       "        [0, 3, 7, 7],\n",
       "        [2, 3, 6, 6]]])"
      ]
     },
     "execution_count": 19,
     "metadata": {},
     "output_type": "execute_result"
    },
    {
     "data": {
      "text/plain": [
       "array([[[5, 1, 2, 3],\n",
       "        [8, 0, 6, 4],\n",
       "        [0, 3, 7, 7],\n",
       "        [2, 3, 6, 6]],\n",
       "\n",
       "       [[5, 1, 2, 3],\n",
       "        [8, 0, 6, 4],\n",
       "        [0, 3, 7, 7],\n",
       "        [2, 3, 6, 6]],\n",
       "\n",
       "       [[5, 1, 2, 3],\n",
       "        [8, 0, 6, 4],\n",
       "        [0, 3, 7, 7],\n",
       "        [2, 3, 6, 6]]])"
      ]
     },
     "execution_count": 19,
     "metadata": {},
     "output_type": "execute_result"
    },
    {
     "data": {
      "text/plain": [
       "3"
      ]
     },
     "execution_count": 19,
     "metadata": {},
     "output_type": "execute_result"
    },
    {
     "data": {
      "text/plain": [
       "(4, 4)"
      ]
     },
     "execution_count": 19,
     "metadata": {},
     "output_type": "execute_result"
    }
   ],
   "source": [
    "poses = np.random.randint(0,9,(3,4,4))\n",
    "camera_id = 2\n",
    "camera_poses = np.repeat(poses[camera_id,None,:], 3, axis=0)\n",
    "\n",
    "\n",
    "poses\n",
    "camera_poses\n",
    "\n",
    "\n",
    "len(camera_poses)\n",
    "camera_poses[1].shape"
   ]
  },
  {
   "cell_type": "code",
   "execution_count": 23,
   "metadata": {},
   "outputs": [
    {
     "data": {
      "text/plain": [
       "array([[ 1.        ,  0.        ,  0.        ],\n",
       "       [ 0.        ,  0.93969262, -0.34202014],\n",
       "       [ 0.        ,  0.34202014,  0.93969262]])"
      ]
     },
     "execution_count": 23,
     "metadata": {},
     "output_type": "execute_result"
    }
   ],
   "source": [
    "\n",
    " \n",
    "R = np.zeros((3,3))\n",
    "R[0,0] = 1\n",
    "theta = np.radians(20)\n",
    "c, s = np.cos(theta), np.sin(theta)\n",
    "R[1:,1:] = [[c, -s], [s, c]]\n",
    "\n",
    "R\n",
    "\n"
   ]
  }
 ],
 "metadata": {
  "kernelspec": {
   "display_name": "datagen",
   "language": "python",
   "name": "python3"
  },
  "language_info": {
   "codemirror_mode": {
    "name": "ipython",
    "version": 3
   },
   "file_extension": ".py",
   "mimetype": "text/x-python",
   "name": "python",
   "nbconvert_exporter": "python",
   "pygments_lexer": "ipython3",
   "version": "3.8.13"
  },
  "orig_nbformat": 4,
  "vscode": {
   "interpreter": {
    "hash": "92bd52329d930686a430bbb9fce3a98bf187dc23e64217a2211397910e56a468"
   }
  }
 },
 "nbformat": 4,
 "nbformat_minor": 2
}
