{
 "cells": [
  {
   "cell_type": "code",
   "execution_count": 25,
   "metadata": {},
   "outputs": [],
   "source": [
    "from IPython.core.interactiveshell import InteractiveShell\n",
    "InteractiveShell.ast_node_interactivity = \"all\"\n",
    "\n",
    "%load_ext autoreload\n",
    "%autoreload 2"
   ]
  },
  {
   "cell_type": "code",
   "execution_count": 26,
   "metadata": {},
   "outputs": [
    {
     "data": {
      "text/plain": [
       "array([[1., 0., 0., 2.],\n",
       "       [0., 1., 0., 0.],\n",
       "       [0., 0., 1., 0.],\n",
       "       [0., 0., 0., 1.]])"
      ]
     },
     "execution_count": 26,
     "metadata": {},
     "output_type": "execute_result"
    },
    {
     "data": {
      "text/plain": [
       "array([[7, 4, 2, 6],\n",
       "       [1, 7, 7, 1],\n",
       "       [5, 1, 0, 5],\n",
       "       [0, 0, 0, 1]])"
      ]
     },
     "execution_count": 26,
     "metadata": {},
     "output_type": "execute_result"
    },
    {
     "data": {
      "text/plain": [
       "array([[ 7.,  4.,  2., 20.],\n",
       "       [ 1.,  7.,  7.,  3.],\n",
       "       [ 5.,  1.,  0., 15.],\n",
       "       [ 0.,  0.,  0.,  1.]])"
      ]
     },
     "execution_count": 26,
     "metadata": {},
     "output_type": "execute_result"
    },
    {
     "data": {
      "text/plain": [
       "array([[ 7.,  4.,  2., 20.],\n",
       "       [ 1.,  7.,  7.,  3.],\n",
       "       [ 5.,  1.,  0., 15.],\n",
       "       [ 0.,  0.,  0.,  1.]])"
      ]
     },
     "execution_count": 26,
     "metadata": {},
     "output_type": "execute_result"
    }
   ],
   "source": [
    "import numpy as np \n",
    "\n",
    "t_matrix = np.eye(4)\n",
    "t_matrix[0, 3] = 2\n",
    "\n",
    "rt = np.random.randint(0,9,(4,4))\n",
    "\n",
    "t_matrix\n",
    "\n",
    "rt[3,:-1] = 0\n",
    "rt[3,-1] = 1\n",
    "\n",
    "rt\n",
    "\n",
    "rt @ t_matrix\n",
    "np.linalg.inv(np.linalg.inv(t_matrix) @ np.linalg.inv(rt))"
   ]
  },
  {
   "cell_type": "code",
   "execution_count": 33,
   "metadata": {},
   "outputs": [
    {
     "data": {
      "text/plain": [
       "array([[1, 4, 3, 6],\n",
       "       [2, 2, 6, 5],\n",
       "       [8, 8, 1, 5],\n",
       "       [0, 0, 0, 1]])"
      ]
     },
     "execution_count": 33,
     "metadata": {},
     "output_type": "execute_result"
    },
    {
     "data": {
      "text/plain": [
       "array([[1., 0., 0., 2.],\n",
       "       [0., 1., 0., 0.],\n",
       "       [0., 0., 1., 0.],\n",
       "       [0., 0., 0., 1.]])"
      ]
     },
     "execution_count": 33,
     "metadata": {},
     "output_type": "execute_result"
    },
    {
     "data": {
      "text/plain": [
       "array([[ 1.,  4.,  3.,  8.],\n",
       "       [ 2.,  2.,  6.,  9.],\n",
       "       [ 8.,  8.,  1., 21.],\n",
       "       [ 0.,  0.,  0.,  1.]])"
      ]
     },
     "execution_count": 33,
     "metadata": {},
     "output_type": "execute_result"
    },
    {
     "data": {
      "text/plain": [
       "array([ 8.,  9., 21.])"
      ]
     },
     "execution_count": 33,
     "metadata": {},
     "output_type": "execute_result"
    }
   ],
   "source": [
    "cam2world_matrix =  np.random.randint(0,9,(4,4))\n",
    "cam2world_matrix[3,:-1] = 0\n",
    "cam2world_matrix[3,-1] = 1\n",
    "\n",
    "t_vec = np.array([2,0,0])\n",
    "t_matrix = np.eye(4)\n",
    "t_matrix[:3,3] = t_vec\n",
    "\n",
    "\n",
    "\n",
    "c2l = cam2world_matrix @ t_matrix\n",
    "light_location = c2l[:3,3]\n",
    "\n",
    "cam2world_matrix\n",
    "t_matrix\n",
    "c2l\n",
    "light_location"
   ]
  },
  {
   "cell_type": "code",
   "execution_count": 5,
   "metadata": {},
   "outputs": [
    {
     "data": {
      "text/plain": [
       "PosixPath('/home/eyecan/dev/data/dataset/config')"
      ]
     },
     "execution_count": 5,
     "metadata": {},
     "output_type": "execute_result"
    }
   ],
   "source": [
    "from pathlib import Path\n",
    "\n",
    "BASE_PATH = Path('~/dev').expanduser()\n",
    "DATASET_PATH = BASE_PATH/'data'/'dataset'\n",
    "SCENE_PATH =  BASE_PATH/'data'/'scenes'\n",
    "CONFIG_FOLDER = BASE_PATH/'data'/'dataset'/'config'\n",
    "\n",
    "\n",
    "BASE_PATH\n",
    "CONFIG_FOLDER"
   ]
  },
  {
   "cell_type": "code",
   "execution_count": 1,
   "metadata": {},
   "outputs": [],
   "source": [
    "import json\n",
    "data = {1 : 'ciao'}\n",
    "with open('data.json', 'w') as f:\n",
    "    json.dump(data, f)"
   ]
  },
  {
   "cell_type": "code",
   "execution_count": 2,
   "metadata": {},
   "outputs": [
    {
     "name": "stdout",
     "output_type": "stream",
     "text": [
      "[ 0.6        0.4854102  0.1854102 -0.1854102 -0.4854102 -0.6\n",
      " -0.4854102 -0.1854102  0.1854102  0.4854102]\n",
      "[ 0.00000000e+00  3.52671151e-01  5.70633910e-01  5.70633910e-01\n",
      "  3.52671151e-01  7.34788079e-17 -3.52671151e-01 -5.70633910e-01\n",
      " -5.70633910e-01 -3.52671151e-01]\n",
      "[0 0 0 0 0 0 0 0 0 0]\n"
     ]
    },
    {
     "data": {
      "text/plain": [
       "array([[ 6.00000000e-01,  0.00000000e+00,  0.00000000e+00],\n",
       "       [ 4.85410197e-01,  3.52671151e-01,  0.00000000e+00],\n",
       "       [ 1.85410197e-01,  5.70633910e-01,  0.00000000e+00],\n",
       "       [-1.85410197e-01,  5.70633910e-01,  0.00000000e+00],\n",
       "       [-4.85410197e-01,  3.52671151e-01,  0.00000000e+00],\n",
       "       [-6.00000000e-01,  7.34788079e-17,  0.00000000e+00],\n",
       "       [-4.85410197e-01, -3.52671151e-01,  0.00000000e+00],\n",
       "       [-1.85410197e-01, -5.70633910e-01,  0.00000000e+00],\n",
       "       [ 1.85410197e-01, -5.70633910e-01,  0.00000000e+00],\n",
       "       [ 4.85410197e-01, -3.52671151e-01,  0.00000000e+00]])"
      ]
     },
     "execution_count": 2,
     "metadata": {},
     "output_type": "execute_result"
    }
   ],
   "source": [
    "import numpy as np\n",
    "def n_points_on_circle(r, center, num_points):\n",
    "    theta = np.linspace(0,2*np.pi,num_points,endpoint=False); \n",
    "    x = r * np.cos(theta)+center[0]\n",
    "    y = r * np.sin(theta)+center[1]\n",
    "    z = np.broadcast_to(center[2],num_points)\n",
    "\n",
    "    print(x)\n",
    "    print(y)\n",
    "    print(z)\n",
    "\n",
    "    xyz = np.stack((x,y,z),axis=-1)\n",
    "    return xyz\n",
    "\n",
    "\n",
    "n_points_on_circle(0.6,[0,0,0],10)"
   ]
  },
  {
   "cell_type": "code",
   "execution_count": 2,
   "metadata": {},
   "outputs": [
    {
     "data": {
      "text/plain": [
       "'/home/eyecan/dev/data/blender/light360_2/render'"
      ]
     },
     "execution_count": 2,
     "metadata": {},
     "output_type": "execute_result"
    }
   ],
   "source": [
    "import shutil\n",
    "\n",
    "shutil.move('/home/eyecan/Downloads/prova/render/','/home/eyecan/dev/data/blender/light360_2')"
   ]
  },
  {
   "cell_type": "code",
   "execution_count": 3,
   "metadata": {},
   "outputs": [],
   "source": [
    "import shutil \n",
    "shutil.rmtree('/home/eyecan/dev/data/blender_tmp/truck_HD')"
   ]
  },
  {
   "cell_type": "code",
   "execution_count": 5,
   "metadata": {},
   "outputs": [
    {
     "data": {
      "text/plain": [
       "'/home/eyecan/dev/data/blender_tmp/prova_copy/bbox.npy'"
      ]
     },
     "execution_count": 5,
     "metadata": {},
     "output_type": "execute_result"
    }
   ],
   "source": [
    "import shutil\n",
    "from pathlib import Path \n",
    "p = Path('/home/eyecan/dev/data/blender_tmp/truck_HD_light_360/bbox.npy')\n",
    "shutil.copy(p,'/home/eyecan/dev/data/blender_tmp/prova_copy')"
   ]
  },
  {
   "cell_type": "code",
   "execution_count": 8,
   "metadata": {},
   "outputs": [],
   "source": [
    "BASE_PATH = Path('~/dev').expanduser()      #TOCHANGE cosi è specifico per questo pc \n",
    "DATASET_PATH = BASE_PATH/'data'/'dataset'\n",
    "BLENDER_PATH = BASE_PATH/'data'/'blender_tmp'\n",
    "\n",
    "in_blender_tmp_folder = BLENDER_PATH / id\n",
    "out_underfolder_path = DATASET_PATH / 'train' / id\n",
    "render_path = in_blender_tmp_folder / 'render'\n",
    "\n",
    "shutil.move(str(render_path), str(out_underfolder_path))   #DEBUG \n",
    "shutil.rmtree(in_blender_tmp_folder) #DEBUG "
   ]
  },
  {
   "cell_type": "code",
   "execution_count": null,
   "metadata": {},
   "outputs": [],
   "source": [
    "import numpy as np \n",
    "\n",
    "n= 50\n",
    "a = np.arange(0,n)\n",
    "b = a.copy()\n",
    "np.random.shuffle(b)\n",
    "\n",
    "\n"
   ]
  },
  {
   "cell_type": "code",
   "execution_count": 37,
   "metadata": {},
   "outputs": [
    {
     "data": {
      "text/plain": [
       "array([[2, 1, 5, 3],\n",
       "       [7, 0, 2, 7],\n",
       "       [2, 0, 3, 8],\n",
       "       [5, 7, 6, 5],\n",
       "       [0, 7, 7, 0],\n",
       "       [6, 7, 3, 8],\n",
       "       [1, 1, 2, 6],\n",
       "       [7, 6, 5, 1],\n",
       "       [6, 8, 1, 8],\n",
       "       [0, 6, 6, 3]])"
      ]
     },
     "execution_count": 37,
     "metadata": {},
     "output_type": "execute_result"
    },
    {
     "data": {
      "text/plain": [
       "array([[7, 0, 2, 7],\n",
       "       [0, 6, 6, 3],\n",
       "       [2, 1, 5, 3],\n",
       "       [6, 8, 1, 8],\n",
       "       [1, 1, 2, 6],\n",
       "       [7, 6, 5, 1],\n",
       "       [0, 7, 7, 0],\n",
       "       [2, 0, 3, 8],\n",
       "       [5, 7, 6, 5],\n",
       "       [6, 7, 3, 8]])"
      ]
     },
     "execution_count": 37,
     "metadata": {},
     "output_type": "execute_result"
    }
   ],
   "source": [
    "a = np.random.randint(0,9,(10,4))\n",
    "a\n",
    "np.random.shuffle(a)\n",
    "a"
   ]
  },
  {
   "cell_type": "code",
   "execution_count": 40,
   "metadata": {},
   "outputs": [
    {
     "name": "stdout",
     "output_type": "stream",
     "text": [
      "{'light360': 'the light goes in a circle around the object while the camera is fixed'}\n",
      "v4yx2\n"
     ]
    }
   ],
   "source": [
    "#FOR GENERATING UNIQUE IDS \n",
    "\n",
    "import itertools\n",
    "import string\n",
    "import os \n",
    "import yaml\n",
    "\n",
    "\n",
    "BASE_PATH = Path('~/dev').expanduser()      #TOCHANGE cosi è specifico per questo pc \n",
    "DATASET_PATH = BASE_PATH/'data'/'dataset'\n",
    "\n",
    "valid_chars = set(string.ascii_lowercase + string.digits)\n",
    "\n",
    "unique_id_generator = itertools.combinations(valid_chars, 5)\n",
    "\n",
    "id_file = os.path.join(DATASET_PATH,'id.yml')\n",
    "\n",
    "with open(id_file,\"r\") as f :\n",
    "    id_dict = yaml.load(f, Loader=yaml.FullLoader)\n",
    "\n",
    "print(id_dict)\n",
    "\n",
    "for gen_id in unique_id_generator:\n",
    "    _id = \"\".join(gen_id)\n",
    "    if _id not in id_dict :\n",
    "        id = _id\n",
    "\n",
    "print(id)\n",
    "\n"
   ]
  }
 ],
 "metadata": {
  "kernelspec": {
   "display_name": "Python 3.8.13 ('ngp')",
   "language": "python",
   "name": "python3"
  },
  "language_info": {
   "codemirror_mode": {
    "name": "ipython",
    "version": 3
   },
   "file_extension": ".py",
   "mimetype": "text/x-python",
   "name": "python",
   "nbconvert_exporter": "python",
   "pygments_lexer": "ipython3",
   "version": "3.8.13"
  },
  "orig_nbformat": 4,
  "vscode": {
   "interpreter": {
    "hash": "c2bfb5adac74c27143db7a91cc111bb7c33c9df2757b7cb96fb748d660266b85"
   }
  }
 },
 "nbformat": 4,
 "nbformat_minor": 2
}
