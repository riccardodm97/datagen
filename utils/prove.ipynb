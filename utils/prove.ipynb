{
 "cells": [
  {
   "cell_type": "code",
   "execution_count": 2,
   "metadata": {},
   "outputs": [],
   "source": [
    "from IPython.core.interactiveshell import InteractiveShell\n",
    "InteractiveShell.ast_node_interactivity = \"all\"\n",
    "\n",
    "%load_ext autoreload\n",
    "%autoreload 2"
   ]
  },
  {
   "cell_type": "code",
   "execution_count": 26,
   "metadata": {},
   "outputs": [
    {
     "data": {
      "text/plain": [
       "array([[1., 0., 0., 2.],\n",
       "       [0., 1., 0., 0.],\n",
       "       [0., 0., 1., 0.],\n",
       "       [0., 0., 0., 1.]])"
      ]
     },
     "execution_count": 26,
     "metadata": {},
     "output_type": "execute_result"
    },
    {
     "data": {
      "text/plain": [
       "array([[7, 4, 2, 6],\n",
       "       [1, 7, 7, 1],\n",
       "       [5, 1, 0, 5],\n",
       "       [0, 0, 0, 1]])"
      ]
     },
     "execution_count": 26,
     "metadata": {},
     "output_type": "execute_result"
    },
    {
     "data": {
      "text/plain": [
       "array([[ 7.,  4.,  2., 20.],\n",
       "       [ 1.,  7.,  7.,  3.],\n",
       "       [ 5.,  1.,  0., 15.],\n",
       "       [ 0.,  0.,  0.,  1.]])"
      ]
     },
     "execution_count": 26,
     "metadata": {},
     "output_type": "execute_result"
    },
    {
     "data": {
      "text/plain": [
       "array([[ 7.,  4.,  2., 20.],\n",
       "       [ 1.,  7.,  7.,  3.],\n",
       "       [ 5.,  1.,  0., 15.],\n",
       "       [ 0.,  0.,  0.,  1.]])"
      ]
     },
     "execution_count": 26,
     "metadata": {},
     "output_type": "execute_result"
    }
   ],
   "source": [
    "import numpy as np \n",
    "\n",
    "t_matrix = np.eye(4)\n",
    "t_matrix[0, 3] = 2\n",
    "\n",
    "rt = np.random.randint(0,9,(4,4))\n",
    "\n",
    "t_matrix\n",
    "\n",
    "rt[3,:-1] = 0\n",
    "rt[3,-1] = 1\n",
    "\n",
    "rt\n",
    "\n",
    "rt @ t_matrix\n",
    "np.linalg.inv(np.linalg.inv(t_matrix) @ np.linalg.inv(rt))"
   ]
  },
  {
   "cell_type": "code",
   "execution_count": 33,
   "metadata": {},
   "outputs": [
    {
     "data": {
      "text/plain": [
       "array([[1, 4, 3, 6],\n",
       "       [2, 2, 6, 5],\n",
       "       [8, 8, 1, 5],\n",
       "       [0, 0, 0, 1]])"
      ]
     },
     "execution_count": 33,
     "metadata": {},
     "output_type": "execute_result"
    },
    {
     "data": {
      "text/plain": [
       "array([[1., 0., 0., 2.],\n",
       "       [0., 1., 0., 0.],\n",
       "       [0., 0., 1., 0.],\n",
       "       [0., 0., 0., 1.]])"
      ]
     },
     "execution_count": 33,
     "metadata": {},
     "output_type": "execute_result"
    },
    {
     "data": {
      "text/plain": [
       "array([[ 1.,  4.,  3.,  8.],\n",
       "       [ 2.,  2.,  6.,  9.],\n",
       "       [ 8.,  8.,  1., 21.],\n",
       "       [ 0.,  0.,  0.,  1.]])"
      ]
     },
     "execution_count": 33,
     "metadata": {},
     "output_type": "execute_result"
    },
    {
     "data": {
      "text/plain": [
       "array([ 8.,  9., 21.])"
      ]
     },
     "execution_count": 33,
     "metadata": {},
     "output_type": "execute_result"
    }
   ],
   "source": [
    "cam2world_matrix =  np.random.randint(0,9,(4,4))\n",
    "cam2world_matrix[3,:-1] = 0\n",
    "cam2world_matrix[3,-1] = 1\n",
    "\n",
    "t_vec = np.array([2,0,0])\n",
    "t_matrix = np.eye(4)\n",
    "t_matrix[:3,3] = t_vec\n",
    "\n",
    "\n",
    "\n",
    "c2l = cam2world_matrix @ t_matrix\n",
    "light_location = c2l[:3,3]\n",
    "\n",
    "cam2world_matrix\n",
    "t_matrix\n",
    "c2l\n",
    "light_location"
   ]
  },
  {
   "cell_type": "code",
   "execution_count": 5,
   "metadata": {},
   "outputs": [
    {
     "data": {
      "text/plain": [
       "PosixPath('/home/eyecan/dev/data/dataset/config')"
      ]
     },
     "execution_count": 5,
     "metadata": {},
     "output_type": "execute_result"
    }
   ],
   "source": [
    "from pathlib import Path\n",
    "\n",
    "BASE_PATH = Path('~/dev').expanduser()\n",
    "DATASET_PATH = BASE_PATH/'data'/'dataset'\n",
    "SCENE_PATH =  BASE_PATH/'data'/'scenes'\n",
    "CONFIG_FOLDER = BASE_PATH/'data'/'dataset'/'config'\n",
    "\n",
    "\n",
    "BASE_PATH\n",
    "CONFIG_FOLDER"
   ]
  },
  {
   "cell_type": "code",
   "execution_count": 1,
   "metadata": {},
   "outputs": [],
   "source": [
    "import json\n",
    "data = {1 : 'ciao'}\n",
    "with open('data.json', 'w') as f:\n",
    "    json.dump(data, f)"
   ]
  }
 ],
 "metadata": {
  "kernelspec": {
   "display_name": "Python 3.8.13 ('ngp')",
   "language": "python",
   "name": "python3"
  },
  "language_info": {
   "codemirror_mode": {
    "name": "ipython",
    "version": 3
   },
   "file_extension": ".py",
   "mimetype": "text/x-python",
   "name": "python",
   "nbconvert_exporter": "python",
   "pygments_lexer": "ipython3",
   "version": "3.8.13"
  },
  "orig_nbformat": 4,
  "vscode": {
   "interpreter": {
    "hash": "c2bfb5adac74c27143db7a91cc111bb7c33c9df2757b7cb96fb748d660266b85"
   }
  }
 },
 "nbformat": 4,
 "nbformat_minor": 2
}
